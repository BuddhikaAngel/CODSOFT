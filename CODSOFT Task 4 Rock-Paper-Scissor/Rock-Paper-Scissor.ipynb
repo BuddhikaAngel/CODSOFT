{
 "cells": [
  {
   "cell_type": "code",
   "execution_count": null,
   "id": "dc28b8fc",
   "metadata": {},
   "outputs": [
    {
     "name": "stdout",
     "output_type": "stream",
     "text": [
      "Start Game\n"
     ]
    }
   ],
   "source": [
    "import random\n",
    "\n",
    "game = [\"rock\", \"paper\", \"scissors\"]\n",
    "win = 0\n",
    "lost = 0\n",
    "count_round = \"y\"\n",
    "\n",
    "print(\"Start Game\")\n",
    "\n",
    "while count_round.lower() == \"y\":\n",
    "    count = 0\n",
    "    for i in range(3):\n",
    "        answer = input(\"Type - rock/paper/scissors: \")\n",
    "        computer = random.choice(game)\n",
    "\n",
    "        print(\"\\nYou:\", answer)\n",
    "        print(\"Computer:\", computer)\n",
    "\n",
    "        if answer.lower() == computer:\n",
    "            print(\"It's a tie!\\n\")\n",
    "            count += 1\n",
    "        elif (\n",
    "            (answer.lower() == \"rock\" and computer == \"scissors\")\n",
    "            or (answer.lower() == \"paper\" and computer == \"rock\")\n",
    "            or (answer.lower() == \"scissors\" and computer == \"paper\")\n",
    "        ):\n",
    "            print(\"You win!\\n\")\n",
    "            count += 1\n",
    "            win += 1\n",
    "        else:\n",
    "            print(\"You lost!\\n\")\n",
    "            count += 1\n",
    "            lost += 1\n",
    "\n",
    "    if win < lost:\n",
    "        print(\"\\nYour score:\", win)\n",
    "        print(\"Computer score:\", lost)\n",
    "        print(\"You lost!\")\n",
    "    elif win > lost:\n",
    "        print(\"\\nYour score:\", win)\n",
    "        print(\"Computer score:\", lost)\n",
    "        print(\"You won!\")\n",
    "    else:\n",
    "        print(\"\\nYour score:\", win)\n",
    "        print(\"Computer score:\", lost)\n",
    "        print(\"It's a tie!\")\n",
    "\n",
    "    count_round = input(\"Do you need more rounds? y/n: \").lower()\n",
    "\n",
    "print(\"Game Over!\")"
   ]
  },
  {
   "cell_type": "code",
   "execution_count": 3,
   "id": "009ca187",
   "metadata": {},
   "outputs": [],
   "source": []
  }
 ],
 "metadata": {
  "kernelspec": {
   "display_name": "Python 3 (ipykernel)",
   "language": "python",
   "name": "python3"
  },
  "language_info": {
   "codemirror_mode": {
    "name": "ipython",
    "version": 3
   },
   "file_extension": ".py",
   "mimetype": "text/x-python",
   "name": "python",
   "nbconvert_exporter": "python",
   "pygments_lexer": "ipython3",
   "version": "3.11.5"
  }
 },
 "nbformat": 4,
 "nbformat_minor": 5
}
