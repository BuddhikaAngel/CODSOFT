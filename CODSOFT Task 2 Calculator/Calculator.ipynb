{
 "cells": [
  {
   "cell_type": "code",
   "execution_count": null,
   "id": "ed8fa07f",
   "metadata": {},
   "outputs": [
    {
     "name": "stdout",
     "output_type": "stream",
     "text": [
      "Select the Operation:\n",
      "1. ADD\n",
      "2. SUBSTRACT\n",
      "3. DIVIDE\n",
      "4. MULTIPLY\n",
      "Select operation from: 1, 2, 3, 4 :\n",
      "9\n"
     ]
    }
   ],
   "source": [
    "select = \"y\"\n",
    "while select == \"y\":\n",
    "\n",
    "    print(\"Select the Operation:\")\n",
    "    print(\"1. ADD\")\n",
    "    print(\"2. SUBSTRACT\")\n",
    "    print(\"3. DIVIDE\")\n",
    "    print(\"4. MULTIPLY\")\n",
    "\n",
    "    operation = int(input(\"Select operation from: 1, 2, 3, 4 :\\n\"))\n",
    "\n",
    "    num1 = int(input(\"Input first number: \"))\n",
    "    num2 = int(input(\"Input second number: \"))\n",
    "    \n",
    "    if operation == 1:\n",
    "    #additon\n",
    "        print(\"The Addition is \",num1,\"+\",num2,\"= \"+ str(num1 + num2))\n",
    "         \n",
    "    elif operation == 2:\n",
    "    #substraction\n",
    "        print(\"The Substraction is \",num1,\"-\",num2,\"= \"+ str(num1 - num2))\n",
    "    \n",
    "    elif operation == 3:\n",
    "    #division\n",
    "        print(\"The Division is \",num1,\"/\",num2,\"= \"+ str(num1 / num2))\n",
    "    \n",
    "    elif operation == 4:\n",
    "    #muliplication\n",
    "        print(\"The Muliplication is \",num1,\"*\",num2,\"= \"+ str(num1 * num2))\n",
    "    \n",
    "else:\n",
    "    print(\"Invalid Number\")\n",
    "    \n",
    "    select = input(\"Do you need more operations y/n ?: \\n\")\n",
    "    if select == \"n\":\n",
    "        print(\"Finished Operations Successfully\")"
   ]
  },
  {
   "cell_type": "code",
   "execution_count": null,
   "id": "f4e4c445",
   "metadata": {},
   "outputs": [],
   "source": []
  }
 ],
 "metadata": {
  "kernelspec": {
   "display_name": "Python 3 (ipykernel)",
   "language": "python",
   "name": "python3"
  },
  "language_info": {
   "codemirror_mode": {
    "name": "ipython",
    "version": 3
   },
   "file_extension": ".py",
   "mimetype": "text/x-python",
   "name": "python",
   "nbconvert_exporter": "python",
   "pygments_lexer": "ipython3",
   "version": "3.11.5"
  }
 },
 "nbformat": 4,
 "nbformat_minor": 5
}
