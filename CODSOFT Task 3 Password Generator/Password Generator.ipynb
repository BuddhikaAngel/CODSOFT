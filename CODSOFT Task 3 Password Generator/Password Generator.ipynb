{
 "cells": [
  {
   "cell_type": "code",
   "execution_count": 4,
   "id": "770224bb",
   "metadata": {},
   "outputs": [
    {
     "name": "stdout",
     "output_type": "stream",
     "text": [
      "Insert the desired length of the password: 15\n",
      "How many passwords do you need to generate?: 15\n",
      " \n",
      "\n",
      "B}Z(d6a-XL3oO%/\n",
      "-4!*,].G?E9zX@=\n",
      "!ocGAls\\4SV^Kz$\n",
      "c798#S\\V5%rw-PY\n",
      "dtP7-%Xr.[M8{(Q\n",
      "^zD-m]ku?WvXB7b\n",
      "dbA(#OsCqK9VG?i\n",
      "2%fWYo:MZy4)X*@\n",
      "+^}n.76l!Q];Zu@\n",
      "f2^)vK8U#G,BP5x\n",
      "L}u@BlcMdOerqG)\n",
      "n@VAT;/+.3my6!q\n",
      "rS.!P@(fRba%;7{\n",
      "j+alb(Q.Lf^!pA1\n",
      "Brgp7$WZ:Oj/0fm\n"
     ]
    }
   ],
   "source": [
    "import random\n",
    "\n",
    "uppercase_letters = \"ABCDEFGHIJKLMNOPQRSTUVWXYZ\"\n",
    "\n",
    "lowercase_letters = uppercase_letters.lower()\n",
    "\n",
    "digits = \"0123456789\"\n",
    "\n",
    "symbols = \"()[]{},;:.-*#+\\/?@!^&=%!$\"\n",
    "\n",
    "upper, lower, nums, syms = True, True, True, True\n",
    "\n",
    "all = \"\"\n",
    "\n",
    "if upper:\n",
    "    all += uppercase_letters\n",
    "\n",
    "if lower:\n",
    "    all += lowercase_letters\n",
    "\n",
    "if nums:\n",
    "    all += digits\n",
    "\n",
    "if syms:\n",
    "    all += symbols\n",
    "    \n",
    "length = int(input(\"Insert the desired length of the password: \"))\n",
    "amount = int(input(\"How many passwords do you need to generate?: \"))\n",
    "print(\" \\n\")\n",
    "\n",
    "for x in range(amount):\n",
    "    password = \"\".join(random.sample(all, length))\n",
    "    print(password)"
   ]
  },
  {
   "cell_type": "code",
   "execution_count": null,
   "id": "c5786a9b",
   "metadata": {},
   "outputs": [],
   "source": []
  }
 ],
 "metadata": {
  "kernelspec": {
   "display_name": "Python 3 (ipykernel)",
   "language": "python",
   "name": "python3"
  },
  "language_info": {
   "codemirror_mode": {
    "name": "ipython",
    "version": 3
   },
   "file_extension": ".py",
   "mimetype": "text/x-python",
   "name": "python",
   "nbconvert_exporter": "python",
   "pygments_lexer": "ipython3",
   "version": "3.11.5"
  }
 },
 "nbformat": 4,
 "nbformat_minor": 5
}
