{
 "cells": [
  {
   "cell_type": "code",
   "execution_count": null,
   "id": "028dfb8e",
   "metadata": {},
   "outputs": [],
   "source": [
    "import random\n",
    "\n",
    "uppercase_letters = \"ABCDEFGHIJKLMNOPQRSTUVWXYZ\"\n",
    "\n",
    "lowercase_letters = uppercase_letters.lower()\n",
    "\n",
    "digits = \"0123456789\"\n",
    "\n",
    "symbols = \"()[]{},;:.-*#+\\/?@!^&=%!$\"\n",
    "\n",
    "upper, lower, nums, syms = True, True, True, True\n",
    "\n",
    "all = \"\"\n",
    "\n",
    "if upper:\n",
    "    all += uppercase_letters\n",
    "\n",
    "if lower:\n",
    "    all += lowercase_letters\n",
    "\n",
    "if nums:\n",
    "    all += digits\n",
    "\n",
    "if syms:\n",
    "    all += symbols\n",
    "    \n",
    "length = int(input(\"Insert the desired length of the password: \"))\n",
    "amount = int(input(\"How many passwords do you need to generate?: \"))\n",
    "print(\" \\n\")\n",
    "\n",
    "for x in range(amount):\n",
    "    password = \"\".join(random.sample(all, length))\n",
    "    print(password)"
   ]
  },
  {
   "cell_type": "code",
   "execution_count": null,
   "id": "1b453524",
   "metadata": {},
   "outputs": [],
   "source": []
  }
 ],
 "metadata": {
  "kernelspec": {
   "display_name": "Python 3 (ipykernel)",
   "language": "python",
   "name": "python3"
  },
  "language_info": {
   "codemirror_mode": {
    "name": "ipython",
    "version": 3
   },
   "file_extension": ".py",
   "mimetype": "text/x-python",
   "name": "python",
   "nbconvert_exporter": "python",
   "pygments_lexer": "ipython3",
   "version": "3.11.5"
  }
 },
 "nbformat": 4,
 "nbformat_minor": 5
}
